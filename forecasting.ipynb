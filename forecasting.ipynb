{
 "cells": [
  {
   "cell_type": "code",
   "execution_count": null,
   "metadata": {},
   "outputs": [],
   "source": [
    "'''11 different classical time series forecasting methods;\n",
    "- Autoregression (AR)\n",
    "- Moving Average (MA)\n",
    "- Autoregressive Moving Average (ARMA)\n",
    "- Autoregressive Integrated Moving Average (ARIMA)\n",
    "- Seasonal Autoregressive Integrated Moving-Average (SARIMA)\n",
    "- Seasonal Autoregressive Integrated Moving-Average with Exogenous Regressors (SARIMAX)\n",
    "- Vector Autoregression (VAR)\n",
    "- Vector Autoregression Moving-Average (VARMA)\n",
    "- Vector Autoregression Moving-Average with Exogenous Regressors (VARMAX)\n",
    "- Simple Exponential Smoothing (SES)\n",
    "- Holt Winter’s Exponential Smoothing (HWES) '''"
   ]
  },
  {
   "cell_type": "code",
   "execution_count": null,
   "metadata": {},
   "outputs": [],
   "source": [
    "'''Autoregression (AR)\n",
    "- it predicts the subsequent value in a sequence using a linear combination of previous observations\n",
    "- AR(1) is a first-order autoregression model\n",
    "- best suited for single-variable time series that lack trend and seasonal components'''\n",
    "\n",
    "from statsmodels.tsa.ar_model import AutoReg\n",
    "from random import random\n",
    "\n",
    "# contrived dataset\n",
    "data = [x + random() for x in range(1, 100)]\n",
    "\n",
    "# fit model\n",
    "model = AutoReg(data, lags=1)\n",
    "model_fit = model.fit()\n",
    "\n",
    "# make prediction\n",
    "yhat = model_fit.predict(len(data), len(data))\n",
    "print(yhat)"
   ]
  },
  {
   "cell_type": "code",
   "execution_count": null,
   "metadata": {},
   "outputs": [],
   "source": [
    "'''Moving Average (MA)\n",
    "- it predict the next step in the sequence as a linear function of the residual errors from a mean process at prior time steps.\n",
    "- useful for capturing short-term fluctuations and random variations in the data'''\n",
    "\n",
    "from statsmodels.tsa.arima.model import ARIMA\n",
    "from random import random\n",
    "\n",
    "data = [x + random() for x in range(1, 100)]\n",
    "\n",
    "# fit model\n",
    "model = ARIMA(data, order=(0, 0, 1))\n",
    "model_fit = model.fit()\n",
    "\n",
    "# make prediction\n",
    "yhat = model_fit.predict(len(data), len(data))\n",
    "print(yhat)"
   ]
  },
  {
   "cell_type": "code",
   "execution_count": null,
   "metadata": {},
   "outputs": [],
   "source": [
    "'''Autoregressive Moving Average (ARMA)\n",
    "- it predicts the next step in the sequence based on a linear combination of both past observations and past residual errors.\n",
    "- it combines both Autoregression (AR) and Moving Average (MA) models.\n",
    "- combine the strengths of AR and MA models, capturing both short-term and long-term dependencies in the data'''\n",
    "\n",
    "from statsmodels.tsa.arima.model import ARIMA\n",
    "from random import random\n",
    "\n",
    "data = [random() for x in range(1, 100)]\n",
    "\n",
    "# fit model\n",
    "model = ARIMA(data, order=(2, 0, 1))\n",
    "model_fit = model.fit()\n",
    "\n",
    "# make prediction\n",
    "yhat = model_fit.predict(len(data), len(data))\n",
    "print(yhat)"
   ]
  },
  {
   "cell_type": "code",
   "execution_count": null,
   "metadata": {},
   "outputs": [],
   "source": [
    "'''Autoregressive Integrated Moving Average (ARIMA)\n",
    "- it predicts the next step in the sequence as a linear function of the differenced observations and residual errors at prior time steps.\n",
    "- integrates the principles of Autoregression (AR) and Moving Average (MA) models as well as \n",
    "a differencing pre-processing step of the sequence to make the sequence stationary.\n",
    "- can handle non-stationary data by incorporating differencing, making them suitable for time series with trends or seasonality.\n",
    "'''\n",
    "\n",
    "from statsmodels.tsa.arima.model import ARIMA\n",
    "from random import random\n",
    "\n",
    "data = [x + random() for x in range(1, 100)]\n",
    "\n",
    "# fit model\n",
    "model = ARIMA(data, order=(1, 1, 1))\n",
    "model_fit = model.fit()\n",
    "\n",
    "# make prediction\n",
    "yhat = model_fit.predict(len(data), len(data), typ='levels')\n",
    "print(yhat)"
   ]
  },
  {
   "cell_type": "code",
   "execution_count": null,
   "metadata": {},
   "outputs": [],
   "source": [
    "'''Seasonal Autoregressive Integrated Moving-Average (SARIMA)\n",
    "- it models the next step in the sequence based on a linear blend of differenced observations, errors, \n",
    "differenced seasonal observations, and seasonal errors at prior time steps.\n",
    "- it is an extension of the ARIMA model and includes seasonal components.\n",
    "- effective for analyzing and forecasting time series data with seasonal patterns.'''\n",
    "\n",
    "from statsmodels.tsa.statespace.sarimax import SARIMAX\n",
    "from random import random\n",
    "\n",
    "data = [x + random() for x in range(1, 100)]\n",
    "\n",
    "# fit model\n",
    "model = SARIMAX(data, order=(1, 1, 1), seasonal_order=(0, 0, 0, 0))\n",
    "model_fit = model.fit(disp=False)\n",
    "\n",
    "print(model_fit.summary())\n",
    "# make prediction\n",
    "yhat = model_fit.predict(len(data), len(data))\n",
    "print(yhat)"
   ]
  },
  {
   "cell_type": "code",
   "execution_count": null,
   "metadata": {},
   "outputs": [],
   "source": [
    "'''Vector Autoregression (VAR)\n",
    "- is used when multiple time series variables interact with each other and it captures the relationships and \n",
    "dependencies between variables, making it suitable for macroeconomic forecasting.\n",
    "- it extends the AR model to cater to multiple parallel time series.\n",
    "- can capture the interdependencies between multiple time series variables, making them suitable for \n",
    "macroeconomic forecasting and analyzing complex systems.'''\n"
   ]
  },
  {
   "cell_type": "code",
   "execution_count": null,
   "metadata": {},
   "outputs": [],
   "source": []
  }
 ],
 "metadata": {
  "kernelspec": {
   "display_name": "Python 3",
   "language": "python",
   "name": "python3"
  },
  "language_info": {
   "codemirror_mode": {
    "name": "ipython",
    "version": 3
   },
   "file_extension": ".py",
   "mimetype": "text/x-python",
   "name": "python",
   "nbconvert_exporter": "python",
   "pygments_lexer": "ipython3",
   "version": "3.12.3"
  }
 },
 "nbformat": 4,
 "nbformat_minor": 2
}
